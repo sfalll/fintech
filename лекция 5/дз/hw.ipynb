{
 "cells": [
  {
   "cell_type": "code",
   "execution_count": 1,
   "id": "725e1a14-b241-4e13-b93b-37cca46fc277",
   "metadata": {},
   "outputs": [],
   "source": [
    "from scipy.stats import norm, mannwhitneyu, wilcoxon"
   ]
  },
  {
   "cell_type": "code",
   "execution_count": 2,
   "id": "a76ab204-9aef-4b26-80ab-ea35c7214579",
   "metadata": {},
   "outputs": [],
   "source": [
    "a = (0.09 - 0.11) / ((0.11 * 0.89) / 1400) ** 0.5"
   ]
  },
  {
   "cell_type": "code",
   "execution_count": 3,
   "id": "b29a308d-0a95-4441-aa98-1680c682149e",
   "metadata": {},
   "outputs": [
    {
     "data": {
      "text/plain": [
       "-2.391677773876565"
      ]
     },
     "execution_count": 3,
     "metadata": {},
     "output_type": "execute_result"
    }
   ],
   "source": [
    "a"
   ]
  },
  {
   "cell_type": "code",
   "execution_count": 4,
   "id": "513a7d67-8eb2-4e70-ac10-fdda8aa33ae4",
   "metadata": {},
   "outputs": [],
   "source": [
    "p_value = (1 - norm.cdf(abs(a)))"
   ]
  },
  {
   "cell_type": "code",
   "execution_count": 5,
   "id": "b5352cbc-32e1-4307-8b7b-b6eed155a096",
   "metadata": {},
   "outputs": [
    {
     "data": {
      "text/plain": [
       "0.00838577977903987"
      ]
     },
     "execution_count": 5,
     "metadata": {},
     "output_type": "execute_result"
    }
   ],
   "source": [
    "p_value"
   ]
  },
  {
   "cell_type": "code",
   "execution_count": 6,
   "id": "51399a4d-a7f5-4c38-8a1a-62ddd514c7fd",
   "metadata": {},
   "outputs": [],
   "source": [
    "from statsmodels.stats.proportion import proportions_ztest"
   ]
  },
  {
   "cell_type": "code",
   "execution_count": 7,
   "id": "0da8c664-f55b-4786-ae5e-501c73a7015a",
   "metadata": {},
   "outputs": [],
   "source": [
    "stat, p = proportions_ztest(126, 1400, 0.11, alternative='smaller')"
   ]
  },
  {
   "cell_type": "code",
   "execution_count": 8,
   "id": "f9adb1ac-a994-4d8b-87c9-0dbfa09a9b76",
   "metadata": {},
   "outputs": [
    {
     "data": {
      "text/plain": [
       "(-2.6148818018424542, 0.00446291691260344)"
      ]
     },
     "execution_count": 8,
     "metadata": {},
     "output_type": "execute_result"
    }
   ],
   "source": [
    "stat, p"
   ]
  },
  {
   "cell_type": "code",
   "execution_count": 9,
   "id": "e8521465-ff7a-4007-acc5-cc50b23e0312",
   "metadata": {},
   "outputs": [],
   "source": [
    "den = ((0.11 * 0.89) / 1400) ** 0.5"
   ]
  },
  {
   "cell_type": "code",
   "execution_count": 10,
   "id": "0b63a5fd-a792-403d-8fec-be33c55a049e",
   "metadata": {},
   "outputs": [],
   "source": [
    "a = (0.09 - 0.11) / den"
   ]
  },
  {
   "cell_type": "code",
   "execution_count": 11,
   "id": "84e67e98-aa07-4a0d-a5f5-e644bdcbd8c9",
   "metadata": {},
   "outputs": [
    {
     "data": {
      "text/plain": [
       "-2.391677773876565"
      ]
     },
     "execution_count": 11,
     "metadata": {},
     "output_type": "execute_result"
    }
   ],
   "source": [
    "a"
   ]
  },
  {
   "cell_type": "code",
   "execution_count": 12,
   "id": "899480c7-8284-4c35-8dd8-78f074c6b296",
   "metadata": {},
   "outputs": [
    {
     "data": {
      "text/plain": [
       "0.09"
      ]
     },
     "execution_count": 12,
     "metadata": {},
     "output_type": "execute_result"
    }
   ],
   "source": [
    "126 / 1400"
   ]
  },
  {
   "cell_type": "code",
   "execution_count": 13,
   "id": "76489ba3-6c82-4fe0-acb7-99a07afee236",
   "metadata": {},
   "outputs": [],
   "source": [
    "p0 = 0.11\n",
    "p = 0.09\n",
    "n = 1400"
   ]
  },
  {
   "cell_type": "code",
   "execution_count": 14,
   "id": "650641e6-07a3-4f35-be8b-009b3e040b6c",
   "metadata": {},
   "outputs": [],
   "source": [
    "from math import sqrt"
   ]
  },
  {
   "cell_type": "code",
   "execution_count": 15,
   "id": "c928b011-3b9d-4943-a91c-08a93dd2cf60",
   "metadata": {},
   "outputs": [],
   "source": [
    "b = sqrt(p0 * (1 - p0) / n)"
   ]
  },
  {
   "cell_type": "code",
   "execution_count": 16,
   "id": "40732a0e-c693-43cf-9020-6d52d37dba8c",
   "metadata": {},
   "outputs": [],
   "source": [
    "a = (p - p0) / b"
   ]
  },
  {
   "cell_type": "code",
   "execution_count": 17,
   "id": "59121956-9299-40c4-bf42-7404a0eaa21b",
   "metadata": {},
   "outputs": [
    {
     "data": {
      "text/plain": [
       "-2.391677773876565"
      ]
     },
     "execution_count": 17,
     "metadata": {},
     "output_type": "execute_result"
    }
   ],
   "source": [
    "a"
   ]
  },
  {
   "cell_type": "code",
   "execution_count": 18,
   "id": "6547c5fa-9d8e-48af-8f97-ca12cac5f78e",
   "metadata": {},
   "outputs": [
    {
     "data": {
      "text/plain": [
       "-2.391677773876565"
      ]
     },
     "execution_count": 18,
     "metadata": {},
     "output_type": "execute_result"
    }
   ],
   "source": [
    "(0.09 - 0.11) / sqrt(0.11 * 0.89 / 1400)"
   ]
  },
  {
   "cell_type": "code",
   "execution_count": 19,
   "id": "a1ff8214-e036-4aac-b05c-3d2def25f040",
   "metadata": {},
   "outputs": [],
   "source": [
    "import pandas as pd"
   ]
  },
  {
   "cell_type": "code",
   "execution_count": 20,
   "id": "29531fa7-fec2-4641-a426-b4e5000eed45",
   "metadata": {},
   "outputs": [],
   "source": [
    "df = pd.read_excel('44f678db-013e-4df4-bcc2-b105e9368170.xlsx')"
   ]
  },
  {
   "cell_type": "code",
   "execution_count": 21,
   "id": "534b59e6-d5d8-4c21-9819-a875c7cc6c4b",
   "metadata": {},
   "outputs": [
    {
     "data": {
      "text/html": [
       "<div>\n",
       "<style scoped>\n",
       "    .dataframe tbody tr th:only-of-type {\n",
       "        vertical-align: middle;\n",
       "    }\n",
       "\n",
       "    .dataframe tbody tr th {\n",
       "        vertical-align: top;\n",
       "    }\n",
       "\n",
       "    .dataframe thead th {\n",
       "        text-align: right;\n",
       "    }\n",
       "</style>\n",
       "<table border=\"1\" class=\"dataframe\">\n",
       "  <thead>\n",
       "    <tr style=\"text-align: right;\">\n",
       "      <th></th>\n",
       "      <th>Группа</th>\n",
       "      <th>Значение</th>\n",
       "    </tr>\n",
       "  </thead>\n",
       "  <tbody>\n",
       "    <tr>\n",
       "      <th>49</th>\n",
       "      <td>B</td>\n",
       "      <td>109</td>\n",
       "    </tr>\n",
       "    <tr>\n",
       "      <th>50</th>\n",
       "      <td>B</td>\n",
       "      <td>1499</td>\n",
       "    </tr>\n",
       "    <tr>\n",
       "      <th>51</th>\n",
       "      <td>B</td>\n",
       "      <td>109</td>\n",
       "    </tr>\n",
       "    <tr>\n",
       "      <th>52</th>\n",
       "      <td>B</td>\n",
       "      <td>299</td>\n",
       "    </tr>\n",
       "    <tr>\n",
       "      <th>53</th>\n",
       "      <td>B</td>\n",
       "      <td>299</td>\n",
       "    </tr>\n",
       "    <tr>\n",
       "      <th>54</th>\n",
       "      <td>B</td>\n",
       "      <td>109</td>\n",
       "    </tr>\n",
       "    <tr>\n",
       "      <th>55</th>\n",
       "      <td>B</td>\n",
       "      <td>109</td>\n",
       "    </tr>\n",
       "    <tr>\n",
       "      <th>56</th>\n",
       "      <td>B</td>\n",
       "      <td>1499</td>\n",
       "    </tr>\n",
       "    <tr>\n",
       "      <th>57</th>\n",
       "      <td>B</td>\n",
       "      <td>2499</td>\n",
       "    </tr>\n",
       "    <tr>\n",
       "      <th>58</th>\n",
       "      <td>B</td>\n",
       "      <td>2499</td>\n",
       "    </tr>\n",
       "    <tr>\n",
       "      <th>59</th>\n",
       "      <td>B</td>\n",
       "      <td>109</td>\n",
       "    </tr>\n",
       "    <tr>\n",
       "      <th>60</th>\n",
       "      <td>B</td>\n",
       "      <td>299</td>\n",
       "    </tr>\n",
       "    <tr>\n",
       "      <th>61</th>\n",
       "      <td>B</td>\n",
       "      <td>1099</td>\n",
       "    </tr>\n",
       "    <tr>\n",
       "      <th>62</th>\n",
       "      <td>B</td>\n",
       "      <td>1499</td>\n",
       "    </tr>\n",
       "    <tr>\n",
       "      <th>63</th>\n",
       "      <td>B</td>\n",
       "      <td>2999</td>\n",
       "    </tr>\n",
       "    <tr>\n",
       "      <th>64</th>\n",
       "      <td>B</td>\n",
       "      <td>299</td>\n",
       "    </tr>\n",
       "    <tr>\n",
       "      <th>65</th>\n",
       "      <td>B</td>\n",
       "      <td>199</td>\n",
       "    </tr>\n",
       "    <tr>\n",
       "      <th>66</th>\n",
       "      <td>B</td>\n",
       "      <td>1499</td>\n",
       "    </tr>\n",
       "    <tr>\n",
       "      <th>67</th>\n",
       "      <td>B</td>\n",
       "      <td>1</td>\n",
       "    </tr>\n",
       "    <tr>\n",
       "      <th>68</th>\n",
       "      <td>B</td>\n",
       "      <td>19</td>\n",
       "    </tr>\n",
       "    <tr>\n",
       "      <th>69</th>\n",
       "      <td>B</td>\n",
       "      <td>209</td>\n",
       "    </tr>\n",
       "    <tr>\n",
       "      <th>70</th>\n",
       "      <td>B</td>\n",
       "      <td>299</td>\n",
       "    </tr>\n",
       "    <tr>\n",
       "      <th>71</th>\n",
       "      <td>B</td>\n",
       "      <td>299</td>\n",
       "    </tr>\n",
       "    <tr>\n",
       "      <th>72</th>\n",
       "      <td>B</td>\n",
       "      <td>299</td>\n",
       "    </tr>\n",
       "    <tr>\n",
       "      <th>73</th>\n",
       "      <td>B</td>\n",
       "      <td>109</td>\n",
       "    </tr>\n",
       "    <tr>\n",
       "      <th>74</th>\n",
       "      <td>B</td>\n",
       "      <td>1099</td>\n",
       "    </tr>\n",
       "    <tr>\n",
       "      <th>75</th>\n",
       "      <td>B</td>\n",
       "      <td>109</td>\n",
       "    </tr>\n",
       "    <tr>\n",
       "      <th>76</th>\n",
       "      <td>B</td>\n",
       "      <td>399</td>\n",
       "    </tr>\n",
       "    <tr>\n",
       "      <th>77</th>\n",
       "      <td>B</td>\n",
       "      <td>199</td>\n",
       "    </tr>\n",
       "    <tr>\n",
       "      <th>78</th>\n",
       "      <td>B</td>\n",
       "      <td>109</td>\n",
       "    </tr>\n",
       "    <tr>\n",
       "      <th>79</th>\n",
       "      <td>B</td>\n",
       "      <td>1599</td>\n",
       "    </tr>\n",
       "    <tr>\n",
       "      <th>80</th>\n",
       "      <td>B</td>\n",
       "      <td>2999</td>\n",
       "    </tr>\n",
       "    <tr>\n",
       "      <th>81</th>\n",
       "      <td>B</td>\n",
       "      <td>2499</td>\n",
       "    </tr>\n",
       "    <tr>\n",
       "      <th>82</th>\n",
       "      <td>B</td>\n",
       "      <td>109</td>\n",
       "    </tr>\n",
       "    <tr>\n",
       "      <th>83</th>\n",
       "      <td>B</td>\n",
       "      <td>1499</td>\n",
       "    </tr>\n",
       "    <tr>\n",
       "      <th>84</th>\n",
       "      <td>B</td>\n",
       "      <td>1499</td>\n",
       "    </tr>\n",
       "    <tr>\n",
       "      <th>85</th>\n",
       "      <td>B</td>\n",
       "      <td>1099</td>\n",
       "    </tr>\n",
       "    <tr>\n",
       "      <th>86</th>\n",
       "      <td>B</td>\n",
       "      <td>1099</td>\n",
       "    </tr>\n",
       "    <tr>\n",
       "      <th>87</th>\n",
       "      <td>B</td>\n",
       "      <td>109</td>\n",
       "    </tr>\n",
       "    <tr>\n",
       "      <th>88</th>\n",
       "      <td>B</td>\n",
       "      <td>1099</td>\n",
       "    </tr>\n",
       "    <tr>\n",
       "      <th>89</th>\n",
       "      <td>B</td>\n",
       "      <td>1499</td>\n",
       "    </tr>\n",
       "    <tr>\n",
       "      <th>90</th>\n",
       "      <td>B</td>\n",
       "      <td>109</td>\n",
       "    </tr>\n",
       "    <tr>\n",
       "      <th>91</th>\n",
       "      <td>B</td>\n",
       "      <td>1499</td>\n",
       "    </tr>\n",
       "    <tr>\n",
       "      <th>92</th>\n",
       "      <td>B</td>\n",
       "      <td>3199</td>\n",
       "    </tr>\n",
       "    <tr>\n",
       "      <th>93</th>\n",
       "      <td>B</td>\n",
       "      <td>2999</td>\n",
       "    </tr>\n",
       "    <tr>\n",
       "      <th>94</th>\n",
       "      <td>B</td>\n",
       "      <td>109</td>\n",
       "    </tr>\n",
       "    <tr>\n",
       "      <th>95</th>\n",
       "      <td>B</td>\n",
       "      <td>1099</td>\n",
       "    </tr>\n",
       "    <tr>\n",
       "      <th>96</th>\n",
       "      <td>B</td>\n",
       "      <td>109</td>\n",
       "    </tr>\n",
       "    <tr>\n",
       "      <th>97</th>\n",
       "      <td>B</td>\n",
       "      <td>109</td>\n",
       "    </tr>\n",
       "    <tr>\n",
       "      <th>98</th>\n",
       "      <td>B</td>\n",
       "      <td>1599</td>\n",
       "    </tr>\n",
       "    <tr>\n",
       "      <th>99</th>\n",
       "      <td>B</td>\n",
       "      <td>1499</td>\n",
       "    </tr>\n",
       "    <tr>\n",
       "      <th>100</th>\n",
       "      <td>B</td>\n",
       "      <td>109</td>\n",
       "    </tr>\n",
       "    <tr>\n",
       "      <th>101</th>\n",
       "      <td>B</td>\n",
       "      <td>299</td>\n",
       "    </tr>\n",
       "    <tr>\n",
       "      <th>102</th>\n",
       "      <td>B</td>\n",
       "      <td>1099</td>\n",
       "    </tr>\n",
       "    <tr>\n",
       "      <th>103</th>\n",
       "      <td>B</td>\n",
       "      <td>109</td>\n",
       "    </tr>\n",
       "    <tr>\n",
       "      <th>104</th>\n",
       "      <td>B</td>\n",
       "      <td>109</td>\n",
       "    </tr>\n",
       "  </tbody>\n",
       "</table>\n",
       "</div>"
      ],
      "text/plain": [
       "    Группа  Значение\n",
       "49       B       109\n",
       "50       B      1499\n",
       "51       B       109\n",
       "52       B       299\n",
       "53       B       299\n",
       "54       B       109\n",
       "55       B       109\n",
       "56       B      1499\n",
       "57       B      2499\n",
       "58       B      2499\n",
       "59       B       109\n",
       "60       B       299\n",
       "61       B      1099\n",
       "62       B      1499\n",
       "63       B      2999\n",
       "64       B       299\n",
       "65       B       199\n",
       "66       B      1499\n",
       "67       B         1\n",
       "68       B        19\n",
       "69       B       209\n",
       "70       B       299\n",
       "71       B       299\n",
       "72       B       299\n",
       "73       B       109\n",
       "74       B      1099\n",
       "75       B       109\n",
       "76       B       399\n",
       "77       B       199\n",
       "78       B       109\n",
       "79       B      1599\n",
       "80       B      2999\n",
       "81       B      2499\n",
       "82       B       109\n",
       "83       B      1499\n",
       "84       B      1499\n",
       "85       B      1099\n",
       "86       B      1099\n",
       "87       B       109\n",
       "88       B      1099\n",
       "89       B      1499\n",
       "90       B       109\n",
       "91       B      1499\n",
       "92       B      3199\n",
       "93       B      2999\n",
       "94       B       109\n",
       "95       B      1099\n",
       "96       B       109\n",
       "97       B       109\n",
       "98       B      1599\n",
       "99       B      1499\n",
       "100      B       109\n",
       "101      B       299\n",
       "102      B      1099\n",
       "103      B       109\n",
       "104      B       109"
      ]
     },
     "execution_count": 21,
     "metadata": {},
     "output_type": "execute_result"
    }
   ],
   "source": [
    "df[df['Группа'] == 'B']"
   ]
  },
  {
   "cell_type": "code",
   "execution_count": 34,
   "id": "65b0069d-212e-441b-a4b9-ae7aebfaa975",
   "metadata": {},
   "outputs": [
    {
     "data": {
      "text/plain": [
       "MannwhitneyuResult(statistic=1317.5, pvalue=0.7214922963378055)"
      ]
     },
     "execution_count": 34,
     "metadata": {},
     "output_type": "execute_result"
    }
   ],
   "source": [
    "mannwhitneyu(df[df['Группа'] == 'А']['Значение'], df[df['Группа'] == 'B']['Значение'], alternative='two-sided')"
   ]
  },
  {
   "cell_type": "code",
   "execution_count": 23,
   "id": "ac3477fd-4fcd-412c-9d89-2b47a801095a",
   "metadata": {},
   "outputs": [
    {
     "data": {
      "text/plain": [
       "(49, 56)"
      ]
     },
     "execution_count": 23,
     "metadata": {},
     "output_type": "execute_result"
    }
   ],
   "source": [
    "len(df[df['Группа'] == 'А']['Значение']), len(df[df['Группа'] == 'B']['Значение'])"
   ]
  },
  {
   "cell_type": "code",
   "execution_count": 24,
   "id": "857b0112-24ed-43d8-bc99-663624fc9a00",
   "metadata": {},
   "outputs": [
    {
     "data": {
      "text/plain": [
       "Группа  Значение\n",
       "B       1            1\n",
       "        19           1\n",
       "        109         17\n",
       "        199          2\n",
       "        209          1\n",
       "        299          8\n",
       "        399          1\n",
       "        1099         7\n",
       "        1499         9\n",
       "        1599         2\n",
       "        2499         3\n",
       "        2999         3\n",
       "        3199         1\n",
       "А       19           1\n",
       "        109         20\n",
       "        299          6\n",
       "        1099         7\n",
       "        1499         8\n",
       "        2499         2\n",
       "        2999         5\n",
       "Name: Значение, dtype: int64"
      ]
     },
     "execution_count": 24,
     "metadata": {},
     "output_type": "execute_result"
    }
   ],
   "source": [
    "df.groupby(['Группа', 'Значение'])['Значение'].count()"
   ]
  },
  {
   "cell_type": "code",
   "execution_count": 25,
   "id": "16ab5a06-4e23-4741-af15-cfe78f1da906",
   "metadata": {},
   "outputs": [
    {
     "data": {
      "text/plain": [
       "WilcoxonResult(statistic=436.0, pvalue=0.8462128624857523)"
      ]
     },
     "execution_count": 25,
     "metadata": {},
     "output_type": "execute_result"
    }
   ],
   "source": [
    "wilcoxon(df[df['Группа'] == 'А']['Значение'], df[df['Группа'] == 'B']['Значение'][3:52], alternative='two-sided')"
   ]
  },
  {
   "cell_type": "code",
   "execution_count": 26,
   "id": "4d895808-33f2-4bc3-a9f9-59780d8f5374",
   "metadata": {},
   "outputs": [],
   "source": [
    "import matplotlib.pyplot as plt"
   ]
  },
  {
   "cell_type": "code",
   "execution_count": 27,
   "id": "c9c72a09-0531-4bdb-b76b-2538e56a1dae",
   "metadata": {},
   "outputs": [
    {
     "data": {
      "text/plain": [
       "(array([ 2., 20.,  8.,  1.,  0.,  0.,  0.,  0.,  0.,  0.,  7.,  0.,  0.,\n",
       "         0., 11.,  0.,  0.,  0.,  0.,  0.,  0.,  0.,  0.,  3.,  0.,  0.,\n",
       "         0.,  0.,  3.,  1.]),\n",
       " array([1.0000e+00, 1.0760e+02, 2.1420e+02, 3.2080e+02, 4.2740e+02,\n",
       "        5.3400e+02, 6.4060e+02, 7.4720e+02, 8.5380e+02, 9.6040e+02,\n",
       "        1.0670e+03, 1.1736e+03, 1.2802e+03, 1.3868e+03, 1.4934e+03,\n",
       "        1.6000e+03, 1.7066e+03, 1.8132e+03, 1.9198e+03, 2.0264e+03,\n",
       "        2.1330e+03, 2.2396e+03, 2.3462e+03, 2.4528e+03, 2.5594e+03,\n",
       "        2.6660e+03, 2.7726e+03, 2.8792e+03, 2.9858e+03, 3.0924e+03,\n",
       "        3.1990e+03]),\n",
       " <BarContainer object of 30 artists>)"
      ]
     },
     "execution_count": 27,
     "metadata": {},
     "output_type": "execute_result"
    },
    {
     "data": {
      "image/png": "[encoded data removed]",
      "text/plain": [
       "<Figure size 432x288 with 1 Axes>"
      ]
     },
     "metadata": {
      "needs_background": "light"
     },
     "output_type": "display_data"
    }
   ],
   "source": [
    "plt.hist(df[df['Группа'] == 'А']['Значение'], alpha=0.7, color='black', bins=30)\n",
    "plt.hist(df[df['Группа'] == 'B']['Значение'], alpha=0.7, color='red', bins=30)"
   ]
  },
  {
   "cell_type": "code",
   "execution_count": 29,
   "id": "b1e2a449-2bb8-45c0-b1e4-912f9f017779",
   "metadata": {},
   "outputs": [
    {
     "data": {
      "text/html": [
       "<div>\n",
       "<style scoped>\n",
       "    .dataframe tbody tr th:only-of-type {\n",
       "        vertical-align: middle;\n",
       "    }\n",
       "\n",
       "    .dataframe tbody tr th {\n",
       "        vertical-align: top;\n",
       "    }\n",
       "\n",
       "    .dataframe thead tr th {\n",
       "        text-align: left;\n",
       "    }\n",
       "\n",
       "    .dataframe thead tr:last-of-type th {\n",
       "        text-align: right;\n",
       "    }\n",
       "</style>\n",
       "<table border=\"1\" class=\"dataframe\">\n",
       "  <thead>\n",
       "    <tr>\n",
       "      <th></th>\n",
       "      <th colspan=\"8\" halign=\"left\">Значение</th>\n",
       "    </tr>\n",
       "    <tr>\n",
       "      <th></th>\n",
       "      <th>count</th>\n",
       "      <th>mean</th>\n",
       "      <th>std</th>\n",
       "      <th>min</th>\n",
       "      <th>25%</th>\n",
       "      <th>50%</th>\n",
       "      <th>75%</th>\n",
       "      <th>max</th>\n",
       "    </tr>\n",
       "    <tr>\n",
       "      <th>Группа</th>\n",
       "      <th></th>\n",
       "      <th></th>\n",
       "      <th></th>\n",
       "      <th></th>\n",
       "      <th></th>\n",
       "      <th></th>\n",
       "      <th></th>\n",
       "      <th></th>\n",
       "    </tr>\n",
       "  </thead>\n",
       "  <tbody>\n",
       "    <tr>\n",
       "      <th>B</th>\n",
       "      <td>56.0</td>\n",
       "      <td>881.178571</td>\n",
       "      <td>928.917437</td>\n",
       "      <td>1.0</td>\n",
       "      <td>109.0</td>\n",
       "      <td>299.0</td>\n",
       "      <td>1499.0</td>\n",
       "      <td>3199.0</td>\n",
       "    </tr>\n",
       "    <tr>\n",
       "      <th>А</th>\n",
       "      <td>49.0</td>\n",
       "      <td>891.244898</td>\n",
       "      <td>976.211353</td>\n",
       "      <td>19.0</td>\n",
       "      <td>109.0</td>\n",
       "      <td>299.0</td>\n",
       "      <td>1499.0</td>\n",
       "      <td>2999.0</td>\n",
       "    </tr>\n",
       "  </tbody>\n",
       "</table>\n",
       "</div>"
      ],
      "text/plain": [
       "       Значение                                                            \n",
       "          count        mean         std   min    25%    50%     75%     max\n",
       "Группа                                                                     \n",
       "B          56.0  881.178571  928.917437   1.0  109.0  299.0  1499.0  3199.0\n",
       "А          49.0  891.244898  976.211353  19.0  109.0  299.0  1499.0  2999.0"
      ]
     },
     "execution_count": 29,
     "metadata": {},
     "output_type": "execute_result"
    }
   ],
   "source": [
    "df.groupby('Группа').describe()"
   ]
  },
  {
   "cell_type": "code",
   "execution_count": 32,
   "id": "091ad176-ef89-4862-acf1-4232571d272f",
   "metadata": {},
   "outputs": [
    {
     "data": {
      "text/plain": [
       "49      109\n",
       "50     1499\n",
       "51      109\n",
       "52      299\n",
       "53      299\n",
       "54      109\n",
       "55      109\n",
       "56     1499\n",
       "57     2499\n",
       "58     2499\n",
       "59      109\n",
       "60      299\n",
       "61     1099\n",
       "62     1499\n",
       "63     2999\n",
       "64      299\n",
       "65      199\n",
       "66     1499\n",
       "67        1\n",
       "68       19\n",
       "69      209\n",
       "70      299\n",
       "71      299\n",
       "72      299\n",
       "73      109\n",
       "74     1099\n",
       "75      109\n",
       "76      399\n",
       "77      199\n",
       "78      109\n",
       "79     1599\n",
       "80     2999\n",
       "81     2499\n",
       "82      109\n",
       "83     1499\n",
       "84     1499\n",
       "85     1099\n",
       "86     1099\n",
       "87      109\n",
       "88     1099\n",
       "89     1499\n",
       "90      109\n",
       "91     1499\n",
       "92     3199\n",
       "93     2999\n",
       "94      109\n",
       "95     1099\n",
       "96      109\n",
       "97      109\n",
       "98     1599\n",
       "99     1499\n",
       "100     109\n",
       "101     299\n",
       "102    1099\n",
       "103     109\n",
       "104     109\n",
       "Name: Значение, dtype: int64"
      ]
     },
     "execution_count": 32,
     "metadata": {},
     "output_type": "execute_result"
    }
   ],
   "source": [
    "df[df['Группа'] == 'B']['Значение']"
   ]
  },
  {
   "cell_type": "code",
   "execution_count": null,
   "id": "85d254ce-838a-4102-9a4d-b46e5950483b",
   "metadata": {},
   "outputs": [],
   "source": []
  }
 ],
 "metadata": {
  "kernelspec": {
   "display_name": "Python 3",
   "language": "python",
   "name": "python3"
  },
  "language_info": {
   "codemirror_mode": {
    "name": "ipython",
    "version": 3
   },
   "file_extension": ".py",
   "mimetype": "text/x-python",
   "name": "python",
   "nbconvert_exporter": "python",
   "pygments_lexer": "ipython3",
   "version": "3.8.8"
  }
 },
 "nbformat": 4,
 "nbformat_minor": 5
}
