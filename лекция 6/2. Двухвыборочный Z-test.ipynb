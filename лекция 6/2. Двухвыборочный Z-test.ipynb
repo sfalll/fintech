{
 "cells": [
  {
   "cell_type": "code",
   "execution_count": 2,
   "metadata": {},
   "outputs": [],
   "source": [
    "import pandas as pd\n",
    "import numpy as np\n",
    "from scipy.stats import norm\n",
    "\n",
    "from statsmodels.stats import weightstats as stests\n",
    "import matplotlib.pyplot as plt"
   ]
  },
  {
   "cell_type": "markdown",
   "metadata": {},
   "source": [
    "## Двухвыборочный Z-test \n",
    "\n"
   ]
  },
  {
   "cell_type": "code",
   "execution_count": 11,
   "metadata": {},
   "outputs": [
    {
     "name": "stdout",
     "output_type": "stream",
     "text": [
      "0.5\n",
      "0.49\n"
     ]
    }
   ],
   "source": [
    "std = 1\n",
    "# mu_x = np.random.uniform(-1,1) \n",
    "# mu_y = np.random.uniform(-1,1)\n",
    "mu_x = 0.5\n",
    "mu_y = 0.49\n",
    "print(mu_x)\n",
    "print(mu_y)"
   ]
  },
  {
   "cell_type": "code",
   "execution_count": 12,
   "metadata": {},
   "outputs": [],
   "source": [
    "x = norm.rvs(size = 10000, loc = mu_x, scale = std)\n",
    "y = norm.rvs(size = 10000, loc = mu_y, scale = std)"
   ]
  },
  {
   "cell_type": "code",
   "execution_count": 15,
   "metadata": {},
   "outputs": [
    {
     "name": "stdout",
     "output_type": "stream",
     "text": [
      "Z-statistic: 0.49184901245907225\n",
      "P-value: 0.6228260851572924\n"
     ]
    }
   ],
   "source": [
    "res = stests.ztest(x, y, alternative='two-sided', value=mu_x-mu_y, ddof=1.0)\n",
    "print(\"Z-statistic:\", res[0])\n",
    "print(\"P-value:\", res[1])"
   ]
  },
  {
   "cell_type": "code",
   "execution_count": 14,
   "metadata": {},
   "outputs": [
    {
     "data": {
      "image/png": "[encoded data removed]",
      "text/plain": [
       "<Figure size 432x288 with 1 Axes>"
      ]
     },
     "metadata": {
      "needs_background": "light"
     },
     "output_type": "display_data"
    }
   ],
   "source": [
    "plt.hist(x, bins=30, density=True, color='blue', alpha=0.7)\n",
    "plt.hist(y, bins=30, density=True, color='red', alpha=0.7)\n",
    "plt.show()"
   ]
  },
  {
   "cell_type": "code",
   "execution_count": null,
   "metadata": {},
   "outputs": [],
   "source": []
  }
 ],
 "metadata": {
  "kernelspec": {
   "display_name": "Python 3",
   "language": "python",
   "name": "python3"
  },
  "language_info": {
   "codemirror_mode": {
    "name": "ipython",
    "version": 3
   },
   "file_extension": ".py",
   "mimetype": "text/x-python",
   "name": "python",
   "nbconvert_exporter": "python",
   "pygments_lexer": "ipython3",
   "version": "3.8.8"
  }
 },
 "nbformat": 4,
 "nbformat_minor": 4
}
