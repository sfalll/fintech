{
 "cells": [
  {
   "cell_type": "code",
   "execution_count": 7,
   "id": "997560e8-aeab-4e76-bb27-4b463d0f8d0d",
   "metadata": {},
   "outputs": [],
   "source": [
    "import pandas as pd\n",
    "import matplotlib.pyplot as plt\n",
    "from statsmodels.stats.proportion import proportions_ztest"
   ]
  },
  {
   "cell_type": "code",
   "execution_count": 2,
   "id": "5528e4cb-7242-41de-9b07-aee25ca28806",
   "metadata": {},
   "outputs": [
    {
     "data": {
      "text/html": [
       "<div>\n",
       "<style scoped>\n",
       "    .dataframe tbody tr th:only-of-type {\n",
       "        vertical-align: middle;\n",
       "    }\n",
       "\n",
       "    .dataframe tbody tr th {\n",
       "        vertical-align: top;\n",
       "    }\n",
       "\n",
       "    .dataframe thead th {\n",
       "        text-align: right;\n",
       "    }\n",
       "</style>\n",
       "<table border=\"1\" class=\"dataframe\">\n",
       "  <thead>\n",
       "    <tr style=\"text-align: right;\">\n",
       "      <th></th>\n",
       "      <th>group</th>\n",
       "      <th>client_id</th>\n",
       "      <th>click_flg</th>\n",
       "    </tr>\n",
       "  </thead>\n",
       "  <tbody>\n",
       "    <tr>\n",
       "      <th>0</th>\n",
       "      <td>test</td>\n",
       "      <td>1</td>\n",
       "      <td>1</td>\n",
       "    </tr>\n",
       "    <tr>\n",
       "      <th>1</th>\n",
       "      <td>test</td>\n",
       "      <td>2</td>\n",
       "      <td>0</td>\n",
       "    </tr>\n",
       "    <tr>\n",
       "      <th>2</th>\n",
       "      <td>test</td>\n",
       "      <td>3</td>\n",
       "      <td>0</td>\n",
       "    </tr>\n",
       "    <tr>\n",
       "      <th>3</th>\n",
       "      <td>test</td>\n",
       "      <td>4</td>\n",
       "      <td>1</td>\n",
       "    </tr>\n",
       "    <tr>\n",
       "      <th>4</th>\n",
       "      <td>test</td>\n",
       "      <td>5</td>\n",
       "      <td>1</td>\n",
       "    </tr>\n",
       "    <tr>\n",
       "      <th>...</th>\n",
       "      <td>...</td>\n",
       "      <td>...</td>\n",
       "      <td>...</td>\n",
       "    </tr>\n",
       "    <tr>\n",
       "      <th>20028</th>\n",
       "      <td>control</td>\n",
       "      <td>20029</td>\n",
       "      <td>0</td>\n",
       "    </tr>\n",
       "    <tr>\n",
       "      <th>20029</th>\n",
       "      <td>control</td>\n",
       "      <td>20030</td>\n",
       "      <td>1</td>\n",
       "    </tr>\n",
       "    <tr>\n",
       "      <th>20030</th>\n",
       "      <td>control</td>\n",
       "      <td>20031</td>\n",
       "      <td>1</td>\n",
       "    </tr>\n",
       "    <tr>\n",
       "      <th>20031</th>\n",
       "      <td>control</td>\n",
       "      <td>20032</td>\n",
       "      <td>0</td>\n",
       "    </tr>\n",
       "    <tr>\n",
       "      <th>20032</th>\n",
       "      <td>control</td>\n",
       "      <td>20033</td>\n",
       "      <td>0</td>\n",
       "    </tr>\n",
       "  </tbody>\n",
       "</table>\n",
       "<p>20033 rows × 3 columns</p>\n",
       "</div>"
      ],
      "text/plain": [
       "         group  client_id  click_flg\n",
       "0         test          1          1\n",
       "1         test          2          0\n",
       "2         test          3          0\n",
       "3         test          4          1\n",
       "4         test          5          1\n",
       "...        ...        ...        ...\n",
       "20028  control      20029          0\n",
       "20029  control      20030          1\n",
       "20030  control      20031          1\n",
       "20031  control      20032          0\n",
       "20032  control      20033          0\n",
       "\n",
       "[20033 rows x 3 columns]"
      ]
     },
     "execution_count": 2,
     "metadata": {},
     "output_type": "execute_result"
    }
   ],
   "source": [
    "df = pd.read_csv('3.csv')\n",
    "df"
   ]
  },
  {
   "cell_type": "code",
   "execution_count": 3,
   "id": "dd821e24-3444-42e4-b64d-53c927fd0b35",
   "metadata": {},
   "outputs": [],
   "source": [
    "a = df[df['group'] == 'test']\n",
    "b = df[df['group'] == 'control']"
   ]
  },
  {
   "cell_type": "code",
   "execution_count": 6,
   "id": "c4525679-7479-473c-8fc7-f2f74d6e94e6",
   "metadata": {},
   "outputs": [
    {
     "data": {
      "image/png": "[encoded data removed]",
      "text/plain": [
       "<Figure size 432x288 with 1 Axes>"
      ]
     },
     "metadata": {
      "needs_background": "light"
     },
     "output_type": "display_data"
    }
   ],
   "source": [
    "plt.hist(a['click_flg'], alpha=0.7, bins=30, label='test', color='red');\n",
    "plt.hist(b['click_flg'], alpha=0.7, bins=30, label='control', color='blue');\n",
    "plt.legend();"
   ]
  },
  {
   "cell_type": "code",
   "execution_count": 12,
   "id": "7641eeb1-5b42-4b3b-81c5-e6e8c1157142",
   "metadata": {},
   "outputs": [
    {
     "data": {
      "text/plain": [
       "[3127, 2962]"
      ]
     },
     "execution_count": 12,
     "metadata": {},
     "output_type": "execute_result"
    }
   ],
   "source": [
    "positive = df.groupby('group')['click_flg'].sum().values.tolist()\n",
    "positive"
   ]
  },
  {
   "cell_type": "code",
   "execution_count": 15,
   "id": "5a1777f8-7274-4e86-8aa5-847246f67202",
   "metadata": {},
   "outputs": [
    {
     "data": {
      "text/plain": [
       "[10010, 10023]"
      ]
     },
     "execution_count": 15,
     "metadata": {},
     "output_type": "execute_result"
    }
   ],
   "source": [
    "pn = df.groupby('group')['client_id'].nunique().values.tolist()\n",
    "pn"
   ]
  },
  {
   "cell_type": "code",
   "execution_count": 17,
   "id": "189d2feb-707c-45b4-ac57-6f51eea02ecc",
   "metadata": {},
   "outputs": [
    {
     "data": {
      "text/plain": [
       "0.9952729749937792"
      ]
     },
     "execution_count": 17,
     "metadata": {},
     "output_type": "execute_result"
    }
   ],
   "source": [
    "stat, p_val = proportions_ztest(positive, pn, alternative='smaller')\n",
    "p_val"
   ]
  },
  {
   "cell_type": "markdown",
   "id": "14ad6d42-8b94-4bfd-b6cd-bdb88f3fd431",
   "metadata": {},
   "source": [
    "p-value близко к 1, значит конверсия не увеличилась."
   ]
  },
  {
   "cell_type": "markdown",
   "id": "9c93f564-dded-4acc-9109-ffd25282ec6a",
   "metadata": {},
   "source": [
    "Это действительно так, потому что если мы посчитаем конверсии:"
   ]
  },
  {
   "cell_type": "code",
   "execution_count": 21,
   "id": "b3db31dc-ecd2-407c-a593-5bd7ec23613e",
   "metadata": {},
   "outputs": [
    {
     "data": {
      "text/html": [
       "<div>\n",
       "<style scoped>\n",
       "    .dataframe tbody tr th:only-of-type {\n",
       "        vertical-align: middle;\n",
       "    }\n",
       "\n",
       "    .dataframe tbody tr th {\n",
       "        vertical-align: top;\n",
       "    }\n",
       "\n",
       "    .dataframe thead th {\n",
       "        text-align: right;\n",
       "    }\n",
       "</style>\n",
       "<table border=\"1\" class=\"dataframe\">\n",
       "  <thead>\n",
       "    <tr style=\"text-align: right;\">\n",
       "      <th></th>\n",
       "      <th>click_flg</th>\n",
       "      <th>client_id</th>\n",
       "      <th>conversion</th>\n",
       "    </tr>\n",
       "    <tr>\n",
       "      <th>group</th>\n",
       "      <th></th>\n",
       "      <th></th>\n",
       "      <th></th>\n",
       "    </tr>\n",
       "  </thead>\n",
       "  <tbody>\n",
       "    <tr>\n",
       "      <th>control</th>\n",
       "      <td>3127</td>\n",
       "      <td>10010</td>\n",
       "      <td>0.312388</td>\n",
       "    </tr>\n",
       "    <tr>\n",
       "      <th>test</th>\n",
       "      <td>2962</td>\n",
       "      <td>10023</td>\n",
       "      <td>0.295520</td>\n",
       "    </tr>\n",
       "  </tbody>\n",
       "</table>\n",
       "</div>"
      ],
      "text/plain": [
       "         click_flg  client_id  conversion\n",
       "group                                    \n",
       "control       3127      10010    0.312388\n",
       "test          2962      10023    0.295520"
      ]
     },
     "execution_count": 21,
     "metadata": {},
     "output_type": "execute_result"
    }
   ],
   "source": [
    "gb = df.groupby('group').agg({'click_flg': 'sum', 'client_id': 'nunique'})\n",
    "gb['conversion'] = gb['click_flg'] / gb['client_id']\n",
    "gb"
   ]
  },
  {
   "cell_type": "markdown",
   "id": "2992a099-688a-4818-8b72-b6745b05c1e2",
   "metadata": {},
   "source": [
    "То конверсия на контроле 0.31, а на тесте - 0.29"
   ]
  },
  {
   "cell_type": "code",
   "execution_count": null,
   "id": "78d11927-a530-452e-acde-6e9e1cc65d32",
   "metadata": {},
   "outputs": [],
   "source": []
  }
 ],
 "metadata": {
  "kernelspec": {
   "display_name": "Python 3",
   "language": "python",
   "name": "python3"
  },
  "language_info": {
   "codemirror_mode": {
    "name": "ipython",
    "version": 3
   },
   "file_extension": ".py",
   "mimetype": "text/x-python",
   "name": "python",
   "nbconvert_exporter": "python",
   "pygments_lexer": "ipython3",
   "version": "3.8.8"
  }
 },
 "nbformat": 4,
 "nbformat_minor": 5
}
