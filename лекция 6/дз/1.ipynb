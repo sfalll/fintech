{
 "cells": [
  {
   "cell_type": "code",
   "execution_count": 33,
   "id": "dca255e7-78e0-4de4-ad64-a881fb03b9e4",
   "metadata": {},
   "outputs": [
    {
     "name": "stdout",
     "output_type": "stream",
     "text": [
      "Populating the interactive namespace from numpy and matplotlib\n"
     ]
    }
   ],
   "source": [
    "import pandas as pd\n",
    "import matplotlib.pyplot as plt\n",
    "from scipy.stats import kstest, mannwhitneyu\n",
    "import scipy.stats as st\n",
    "%pylab inline"
   ]
  },
  {
   "cell_type": "code",
   "execution_count": 4,
   "id": "5349770b-c550-49c9-a66b-8e4744e1e587",
   "metadata": {},
   "outputs": [],
   "source": [
    "df = pd.read_csv('a2a5edcd-5f97-4228-a973-6c9015978b3e.csv')"
   ]
  },
  {
   "cell_type": "code",
   "execution_count": 6,
   "id": "81db1655-34e6-437d-ad77-41d26b7cca2b",
   "metadata": {},
   "outputs": [],
   "source": [
    "a = df[df['group'] == 'test']['target']\n",
    "b = df[df['group'] == 'control']['target']"
   ]
  },
  {
   "cell_type": "code",
   "execution_count": 32,
   "id": "97e88cc9-c9da-4af7-bf73-8ebe57a04a9a",
   "metadata": {},
   "outputs": [
    {
     "data": {
      "image/png": "[encoded data removed]",
      "text/plain": [
       "<Figure size 432x288 with 1 Axes>"
      ]
     },
     "metadata": {
      "needs_background": "light"
     },
     "output_type": "display_data"
    }
   ],
   "source": [
    "plt.hist(a, alpha=0.7, color='black', bins=30, label='group a');\n",
    "plt.hist(b, alpha=0.7, color='red', bins=30, label='group b');\n",
    "plt.legend();"
   ]
  },
  {
   "cell_type": "markdown",
   "id": "eebf3a5e-d10e-41c4-a5fb-eb96a814e874",
   "metadata": {},
   "source": [
    "Проверим наши выборки на нормальность с помощью критерия Колмогорова-Смирнова"
   ]
  },
  {
   "cell_type": "code",
   "execution_count": 26,
   "id": "f6f87041-b6c2-4a0b-865b-628c0fb6877b",
   "metadata": {},
   "outputs": [
    {
     "data": {
      "text/plain": [
       "(KstestResult(statistic=1.0, pvalue=0.0),\n",
       " KstestResult(statistic=1.0, pvalue=0.0))"
      ]
     },
     "execution_count": 26,
     "metadata": {},
     "output_type": "execute_result"
    }
   ],
   "source": [
    "k1 = kstest(a, 'norm')\n",
    "k2 = kstest(b, 'norm')\n",
    "k1, k2"
   ]
  },
  {
   "cell_type": "markdown",
   "id": "2f391975-2283-4f2b-a594-f84347c13fba",
   "metadata": {},
   "source": [
    "Выборки получились распределены не нормально, значит применим критерий Уилкоксона-Манна-Уитни"
   ]
  },
  {
   "cell_type": "code",
   "execution_count": 38,
   "id": "5fdd014e-539f-444f-8aab-712b11b4e999",
   "metadata": {},
   "outputs": [
    {
     "data": {
      "text/plain": [
       "MannwhitneyuResult(statistic=375491.0, pvalue=5.101455045700161e-22)"
      ]
     },
     "execution_count": 38,
     "metadata": {},
     "output_type": "execute_result"
    }
   ],
   "source": [
    "mannwhitneyu(a, b)"
   ]
  },
  {
   "cell_type": "markdown",
   "id": "d23284b2-f7f2-4105-b32b-57732eef9eca",
   "metadata": {},
   "source": [
    "p-value получился маленьким, отсюда мы можем сделать вывод, что средние в 2 выборках различны"
   ]
  }
 ],
 "metadata": {
  "kernelspec": {
   "display_name": "Python 3",
   "language": "python",
   "name": "python3"
  },
  "language_info": {
   "codemirror_mode": {
    "name": "ipython",
    "version": 3
   },
   "file_extension": ".py",
   "mimetype": "text/x-python",
   "name": "python",
   "nbconvert_exporter": "python",
   "pygments_lexer": "ipython3",
   "version": "3.8.8"
  }
 },
 "nbformat": 4,
 "nbformat_minor": 5
}
