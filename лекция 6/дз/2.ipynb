{
 "cells": [
  {
   "cell_type": "code",
   "execution_count": 15,
   "id": "7a180177-ef97-4d54-b0d9-39756ed5446f",
   "metadata": {},
   "outputs": [],
   "source": [
    "import pandas as pd\n",
    "import matplotlib.pyplot as plt\n",
    "from scipy.stats import mannwhitneyu"
   ]
  },
  {
   "cell_type": "code",
   "execution_count": 3,
   "id": "29fa08f5-1b63-42d6-af92-9dd14c1f20a0",
   "metadata": {},
   "outputs": [],
   "source": [
    "df = pd.read_csv('2.csv')"
   ]
  },
  {
   "cell_type": "code",
   "execution_count": 4,
   "id": "a09c872b-2abd-4aa8-82bf-b91ccf7b3868",
   "metadata": {},
   "outputs": [
    {
     "data": {
      "text/html": [
       "<div>\n",
       "<style scoped>\n",
       "    .dataframe tbody tr th:only-of-type {\n",
       "        vertical-align: middle;\n",
       "    }\n",
       "\n",
       "    .dataframe tbody tr th {\n",
       "        vertical-align: top;\n",
       "    }\n",
       "\n",
       "    .dataframe thead th {\n",
       "        text-align: right;\n",
       "    }\n",
       "</style>\n",
       "<table border=\"1\" class=\"dataframe\">\n",
       "  <thead>\n",
       "    <tr style=\"text-align: right;\">\n",
       "      <th></th>\n",
       "      <th>group</th>\n",
       "      <th>client_id</th>\n",
       "      <th>avg_sum</th>\n",
       "    </tr>\n",
       "  </thead>\n",
       "  <tbody>\n",
       "    <tr>\n",
       "      <th>0</th>\n",
       "      <td>test</td>\n",
       "      <td>1</td>\n",
       "      <td>156.686451</td>\n",
       "    </tr>\n",
       "    <tr>\n",
       "      <th>1</th>\n",
       "      <td>test</td>\n",
       "      <td>2</td>\n",
       "      <td>342.625859</td>\n",
       "    </tr>\n",
       "    <tr>\n",
       "      <th>2</th>\n",
       "      <td>test</td>\n",
       "      <td>3</td>\n",
       "      <td>79.712120</td>\n",
       "    </tr>\n",
       "    <tr>\n",
       "      <th>3</th>\n",
       "      <td>test</td>\n",
       "      <td>4</td>\n",
       "      <td>493.110807</td>\n",
       "    </tr>\n",
       "    <tr>\n",
       "      <th>4</th>\n",
       "      <td>test</td>\n",
       "      <td>5</td>\n",
       "      <td>124.135016</td>\n",
       "    </tr>\n",
       "    <tr>\n",
       "      <th>...</th>\n",
       "      <td>...</td>\n",
       "      <td>...</td>\n",
       "      <td>...</td>\n",
       "    </tr>\n",
       "    <tr>\n",
       "      <th>595</th>\n",
       "      <td>control</td>\n",
       "      <td>596</td>\n",
       "      <td>209.075972</td>\n",
       "    </tr>\n",
       "    <tr>\n",
       "      <th>596</th>\n",
       "      <td>control</td>\n",
       "      <td>597</td>\n",
       "      <td>57.990291</td>\n",
       "    </tr>\n",
       "    <tr>\n",
       "      <th>597</th>\n",
       "      <td>control</td>\n",
       "      <td>598</td>\n",
       "      <td>42.577037</td>\n",
       "    </tr>\n",
       "    <tr>\n",
       "      <th>598</th>\n",
       "      <td>control</td>\n",
       "      <td>599</td>\n",
       "      <td>178.320097</td>\n",
       "    </tr>\n",
       "    <tr>\n",
       "      <th>599</th>\n",
       "      <td>control</td>\n",
       "      <td>600</td>\n",
       "      <td>78.746824</td>\n",
       "    </tr>\n",
       "  </tbody>\n",
       "</table>\n",
       "<p>600 rows × 3 columns</p>\n",
       "</div>"
      ],
      "text/plain": [
       "       group  client_id     avg_sum\n",
       "0       test          1  156.686451\n",
       "1       test          2  342.625859\n",
       "2       test          3   79.712120\n",
       "3       test          4  493.110807\n",
       "4       test          5  124.135016\n",
       "..       ...        ...         ...\n",
       "595  control        596  209.075972\n",
       "596  control        597   57.990291\n",
       "597  control        598   42.577037\n",
       "598  control        599  178.320097\n",
       "599  control        600   78.746824\n",
       "\n",
       "[600 rows x 3 columns]"
      ]
     },
     "execution_count": 4,
     "metadata": {},
     "output_type": "execute_result"
    }
   ],
   "source": [
    "df"
   ]
  },
  {
   "cell_type": "code",
   "execution_count": 5,
   "id": "ec41ed28-03d2-47aa-9956-bcfca4bf6323",
   "metadata": {},
   "outputs": [],
   "source": [
    "a = df[df['group'] == 'test']['avg_sum']\n",
    "b = df[df['group'] == 'control']['avg_sum']"
   ]
  },
  {
   "cell_type": "code",
   "execution_count": 11,
   "id": "453d399d-4817-471a-a342-442992033fc7",
   "metadata": {},
   "outputs": [
    {
     "data": {
      "image/png": "[encoded data removed]",
      "text/plain": [
       "<Figure size 432x288 with 1 Axes>"
      ]
     },
     "metadata": {
      "needs_background": "light"
     },
     "output_type": "display_data"
    }
   ],
   "source": [
    "plt.hist(a, alpha=0.7, color='black', bins=30, label='test');\n",
    "plt.hist(b, alpha=0.7, color='red', bins=30, label='control');\n",
    "plt.legend();"
   ]
  },
  {
   "cell_type": "markdown",
   "id": "7ddd061a-3369-4292-90ca-43063da095fc",
   "metadata": {},
   "source": [
    "Данные опять распределены не нормально, применим критерий Уилкоксона-Манна-Уитни"
   ]
  },
  {
   "cell_type": "code",
   "execution_count": 19,
   "id": "1101ff53-82ff-4167-b860-2b1f04dec3a4",
   "metadata": {},
   "outputs": [
    {
     "data": {
      "text/plain": [
       "MannwhitneyuResult(statistic=50943.0, pvalue=0.0024922812779452318)"
      ]
     },
     "execution_count": 19,
     "metadata": {},
     "output_type": "execute_result"
    }
   ],
   "source": [
    "mannwhitneyu(a, b, alternative='greater')"
   ]
  },
  {
   "cell_type": "markdown",
   "id": "f0ce0f54-495d-4da9-a106-ce80f9f28976",
   "metadata": {},
   "source": [
    "Как мы видим p-value мало, тест показал статзначимое различие между выборками, значит сумма чека на тесте действительно увеличилась"
   ]
  },
  {
   "cell_type": "code",
   "execution_count": null,
   "id": "649789d7-e4aa-48cf-9af7-9a795783f833",
   "metadata": {},
   "outputs": [],
   "source": []
  }
 ],
 "metadata": {
  "kernelspec": {
   "display_name": "Python 3",
   "language": "python",
   "name": "python3"
  },
  "language_info": {
   "codemirror_mode": {
    "name": "ipython",
    "version": 3
   },
   "file_extension": ".py",
   "mimetype": "text/x-python",
   "name": "python",
   "nbconvert_exporter": "python",
   "pygments_lexer": "ipython3",
   "version": "3.8.8"
  }
 },
 "nbformat": 4,
 "nbformat_minor": 5
}
